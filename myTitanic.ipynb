{
 "cells": [
  {
   "cell_type": "code",
   "execution_count": 1,
   "metadata": {},
   "outputs": [],
   "source": [
    "import pandas as pd\n",
    "import numpy as np\n",
    "\n",
    "import matplotlib.pyplot as plt"
   ]
  },
  {
   "cell_type": "code",
   "execution_count": 2,
   "metadata": {},
   "outputs": [
    {
     "data": {
      "text/plain": [
       "(891, 12)"
      ]
     },
     "execution_count": 2,
     "metadata": {},
     "output_type": "execute_result"
    }
   ],
   "source": [
    "data = pd.read_csv('train.csv')\n",
    "data.shape"
   ]
  },
  {
   "cell_type": "code",
   "execution_count": 3,
   "metadata": {},
   "outputs": [
    {
     "data": {
      "text/html": [
       "<div>\n",
       "<style scoped>\n",
       "    .dataframe tbody tr th:only-of-type {\n",
       "        vertical-align: middle;\n",
       "    }\n",
       "\n",
       "    .dataframe tbody tr th {\n",
       "        vertical-align: top;\n",
       "    }\n",
       "\n",
       "    .dataframe thead th {\n",
       "        text-align: right;\n",
       "    }\n",
       "</style>\n",
       "<table border=\"1\" class=\"dataframe\">\n",
       "  <thead>\n",
       "    <tr style=\"text-align: right;\">\n",
       "      <th></th>\n",
       "      <th>PassengerId</th>\n",
       "      <th>Survived</th>\n",
       "      <th>Pclass</th>\n",
       "      <th>Name</th>\n",
       "      <th>Sex</th>\n",
       "      <th>Age</th>\n",
       "      <th>SibSp</th>\n",
       "      <th>Parch</th>\n",
       "      <th>Ticket</th>\n",
       "      <th>Fare</th>\n",
       "      <th>Cabin</th>\n",
       "      <th>Embarked</th>\n",
       "    </tr>\n",
       "  </thead>\n",
       "  <tbody>\n",
       "    <tr>\n",
       "      <th>0</th>\n",
       "      <td>1</td>\n",
       "      <td>0</td>\n",
       "      <td>3</td>\n",
       "      <td>Braund, Mr. Owen Harris</td>\n",
       "      <td>male</td>\n",
       "      <td>22.0</td>\n",
       "      <td>1</td>\n",
       "      <td>0</td>\n",
       "      <td>A/5 21171</td>\n",
       "      <td>7.2500</td>\n",
       "      <td>NaN</td>\n",
       "      <td>S</td>\n",
       "    </tr>\n",
       "    <tr>\n",
       "      <th>1</th>\n",
       "      <td>2</td>\n",
       "      <td>1</td>\n",
       "      <td>1</td>\n",
       "      <td>Cumings, Mrs. John Bradley (Florence Briggs Th...</td>\n",
       "      <td>female</td>\n",
       "      <td>38.0</td>\n",
       "      <td>1</td>\n",
       "      <td>0</td>\n",
       "      <td>PC 17599</td>\n",
       "      <td>71.2833</td>\n",
       "      <td>C85</td>\n",
       "      <td>C</td>\n",
       "    </tr>\n",
       "    <tr>\n",
       "      <th>2</th>\n",
       "      <td>3</td>\n",
       "      <td>1</td>\n",
       "      <td>3</td>\n",
       "      <td>Heikkinen, Miss. Laina</td>\n",
       "      <td>female</td>\n",
       "      <td>26.0</td>\n",
       "      <td>0</td>\n",
       "      <td>0</td>\n",
       "      <td>STON/O2. 3101282</td>\n",
       "      <td>7.9250</td>\n",
       "      <td>NaN</td>\n",
       "      <td>S</td>\n",
       "    </tr>\n",
       "    <tr>\n",
       "      <th>3</th>\n",
       "      <td>4</td>\n",
       "      <td>1</td>\n",
       "      <td>1</td>\n",
       "      <td>Futrelle, Mrs. Jacques Heath (Lily May Peel)</td>\n",
       "      <td>female</td>\n",
       "      <td>35.0</td>\n",
       "      <td>1</td>\n",
       "      <td>0</td>\n",
       "      <td>113803</td>\n",
       "      <td>53.1000</td>\n",
       "      <td>C123</td>\n",
       "      <td>S</td>\n",
       "    </tr>\n",
       "    <tr>\n",
       "      <th>4</th>\n",
       "      <td>5</td>\n",
       "      <td>0</td>\n",
       "      <td>3</td>\n",
       "      <td>Allen, Mr. William Henry</td>\n",
       "      <td>male</td>\n",
       "      <td>35.0</td>\n",
       "      <td>0</td>\n",
       "      <td>0</td>\n",
       "      <td>373450</td>\n",
       "      <td>8.0500</td>\n",
       "      <td>NaN</td>\n",
       "      <td>S</td>\n",
       "    </tr>\n",
       "  </tbody>\n",
       "</table>\n",
       "</div>"
      ],
      "text/plain": [
       "   PassengerId  Survived  Pclass  \\\n",
       "0            1         0       3   \n",
       "1            2         1       1   \n",
       "2            3         1       3   \n",
       "3            4         1       1   \n",
       "4            5         0       3   \n",
       "\n",
       "                                                Name     Sex   Age  SibSp  \\\n",
       "0                            Braund, Mr. Owen Harris    male  22.0      1   \n",
       "1  Cumings, Mrs. John Bradley (Florence Briggs Th...  female  38.0      1   \n",
       "2                             Heikkinen, Miss. Laina  female  26.0      0   \n",
       "3       Futrelle, Mrs. Jacques Heath (Lily May Peel)  female  35.0      1   \n",
       "4                           Allen, Mr. William Henry    male  35.0      0   \n",
       "\n",
       "   Parch            Ticket     Fare Cabin Embarked  \n",
       "0      0         A/5 21171   7.2500   NaN        S  \n",
       "1      0          PC 17599  71.2833   C85        C  \n",
       "2      0  STON/O2. 3101282   7.9250   NaN        S  \n",
       "3      0            113803  53.1000  C123        S  \n",
       "4      0            373450   8.0500   NaN        S  "
      ]
     },
     "execution_count": 3,
     "metadata": {},
     "output_type": "execute_result"
    }
   ],
   "source": [
    "data.head()"
   ]
  },
  {
   "cell_type": "code",
   "execution_count": 4,
   "metadata": {},
   "outputs": [
    {
     "data": {
      "text/plain": [
       "<matplotlib.axes._subplots.AxesSubplot at 0x92b57b8>"
      ]
     },
     "execution_count": 4,
     "metadata": {},
     "output_type": "execute_result"
    },
    {
     "data": {
      "image/png": "[encoded data removed]",
      "text/plain": [
       "<Figure size 432x288 with 1 Axes>"
      ]
     },
     "metadata": {
      "needs_background": "light"
     },
     "output_type": "display_data"
    }
   ],
   "source": [
    "data['Pclass'].value_counts().plot.bar()"
   ]
  },
  {
   "cell_type": "code",
   "execution_count": 5,
   "metadata": {},
   "outputs": [
    {
     "data": {
      "image/png": "[encoded data removed]",
      "text/plain": [
       "<Figure size 432x288 with 1 Axes>"
      ]
     },
     "metadata": {
      "needs_background": "light"
     },
     "output_type": "display_data"
    }
   ],
   "source": [
    "fig = data.Age.hist(bins=20)"
   ]
  },
  {
   "cell_type": "code",
   "execution_count": 6,
   "metadata": {},
   "outputs": [
    {
     "data": {
      "text/plain": [
       "<matplotlib.axes._subplots.AxesSubplot at 0x95d5b38>"
      ]
     },
     "execution_count": 6,
     "metadata": {},
     "output_type": "execute_result"
    },
    {
     "data": {
      "image/png": "[encoded data removed]",
      "text/plain": [
       "<Figure size 432x288 with 1 Axes>"
      ]
     },
     "metadata": {
      "needs_background": "light"
     },
     "output_type": "display_data"
    }
   ],
   "source": [
    "data['Parch'].value_counts().plot.bar()"
   ]
  },
  {
   "cell_type": "code",
   "execution_count": 7,
   "metadata": {},
   "outputs": [
    {
     "data": {
      "text/plain": [
       "<matplotlib.axes._subplots.AxesSubplot at 0x971e0b8>"
      ]
     },
     "execution_count": 7,
     "metadata": {},
     "output_type": "execute_result"
    },
    {
     "data": {
      "image/png": "[encoded data removed]",
      "text/plain": [
       "<Figure size 432x288 with 1 Axes>"
      ]
     },
     "metadata": {
      "needs_background": "light"
     },
     "output_type": "display_data"
    }
   ],
   "source": [
    "data.Fare.hist(bins=20)"
   ]
  },
  {
   "cell_type": "code",
   "execution_count": 8,
   "metadata": {},
   "outputs": [
    {
     "data": {
      "text/plain": [
       "<matplotlib.axes._subplots.AxesSubplot at 0x97becc0>"
      ]
     },
     "execution_count": 8,
     "metadata": {},
     "output_type": "execute_result"
    },
    {
     "data": {
      "image/png": "[encoded data removed]",
      "text/plain": [
       "<Figure size 432x288 with 1 Axes>"
      ]
     },
     "metadata": {
      "needs_background": "light"
     },
     "output_type": "display_data"
    }
   ],
   "source": [
    "data['Embarked'].value_counts().plot.bar()"
   ]
  },
  {
   "cell_type": "code",
   "execution_count": 9,
   "metadata": {},
   "outputs": [
    {
     "data": {
      "text/plain": [
       "Sex     Survived\n",
       "female  0            81\n",
       "        1           233\n",
       "male    0           468\n",
       "        1           109\n",
       "Name: PassengerId, dtype: int64"
      ]
     },
     "execution_count": 9,
     "metadata": {},
     "output_type": "execute_result"
    }
   ],
   "source": [
    "data.groupby(['Sex','Survived'])['PassengerId'].count()"
   ]
  },
  {
   "cell_type": "code",
   "execution_count": 10,
   "metadata": {},
   "outputs": [
    {
     "data": {
      "text/plain": [
       "Sex\n",
       "female    314\n",
       "male      577\n",
       "Name: PassengerId, dtype: int64"
      ]
     },
     "execution_count": 10,
     "metadata": {},
     "output_type": "execute_result"
    }
   ],
   "source": [
    "data.groupby('Sex')['PassengerId'].count()"
   ]
  },
  {
   "cell_type": "code",
   "execution_count": 11,
   "metadata": {},
   "outputs": [
    {
     "data": {
      "text/plain": [
       "891"
      ]
     },
     "execution_count": 11,
     "metadata": {},
     "output_type": "execute_result"
    }
   ],
   "source": [
    "data['PassengerId'].count()"
   ]
  },
  {
   "cell_type": "code",
   "execution_count": 12,
   "metadata": {},
   "outputs": [
    {
     "data": {
      "text/plain": [
       "Survived\n",
       "0    468\n",
       "1    109\n",
       "Name: PassengerId, dtype: int64"
      ]
     },
     "execution_count": 12,
     "metadata": {},
     "output_type": "execute_result"
    }
   ],
   "source": [
    "data[data['Sex']=='male'].groupby(data['Survived'])['PassengerId'].count()"
   ]
  },
  {
   "cell_type": "code",
   "execution_count": 13,
   "metadata": {},
   "outputs": [
    {
     "data": {
      "text/plain": [
       "Sex\n",
       "female    0.742038\n",
       "male      0.188908\n",
       "Name: Survived, dtype: float64"
      ]
     },
     "execution_count": 13,
     "metadata": {},
     "output_type": "execute_result"
    }
   ],
   "source": [
    "#выжило 74% женщин и 18% мужчин\n",
    "data.groupby(['Sex'])['Survived'].mean()"
   ]
  },
  {
   "cell_type": "markdown",
   "metadata": {},
   "source": [
    "# Missing values"
   ]
  },
  {
   "cell_type": "code",
   "execution_count": 14,
   "metadata": {},
   "outputs": [
    {
     "data": {
      "text/plain": [
       "PassengerId      0\n",
       "Survived         0\n",
       "Pclass           0\n",
       "Name             0\n",
       "Sex              0\n",
       "Age            177\n",
       "SibSp            0\n",
       "Parch            0\n",
       "Ticket           0\n",
       "Fare             0\n",
       "Cabin          687\n",
       "Embarked         2\n",
       "dtype: int64"
      ]
     },
     "execution_count": 14,
     "metadata": {},
     "output_type": "execute_result"
    }
   ],
   "source": [
    "data.isna().sum()"
   ]
  },
  {
   "cell_type": "code",
   "execution_count": 15,
   "metadata": {},
   "outputs": [
    {
     "data": {
      "text/plain": [
       "PassengerId      0\n",
       "Survived         0\n",
       "Pclass           0\n",
       "Name             0\n",
       "Sex              0\n",
       "Age            177\n",
       "SibSp            0\n",
       "Parch            0\n",
       "Ticket           0\n",
       "Fare             0\n",
       "Cabin          687\n",
       "Embarked         2\n",
       "dtype: int64"
      ]
     },
     "execution_count": 15,
     "metadata": {},
     "output_type": "execute_result"
    }
   ],
   "source": [
    "data.isnull().sum()"
   ]
  },
  {
   "cell_type": "code",
   "execution_count": 16,
   "metadata": {},
   "outputs": [
    {
     "data": {
      "text/plain": [
       "PassengerId    0.000000\n",
       "Survived       0.000000\n",
       "Pclass         0.000000\n",
       "Name           0.000000\n",
       "Sex            0.000000\n",
       "Age            0.198653\n",
       "SibSp          0.000000\n",
       "Parch          0.000000\n",
       "Ticket         0.000000\n",
       "Fare           0.000000\n",
       "Cabin          0.771044\n",
       "Embarked       0.002245\n",
       "dtype: float64"
      ]
     },
     "execution_count": 16,
     "metadata": {},
     "output_type": "execute_result"
    }
   ],
   "source": [
    "#пропуски в процентах ~20% по возрасту и 77% без указания кабины\n",
    "data.isnull().mean()"
   ]
  },
  {
   "cell_type": "code",
   "execution_count": 17,
   "metadata": {},
   "outputs": [
    {
     "data": {
      "text/plain": [
       "Survived\n",
       "0    0.876138\n",
       "1    0.602339\n",
       "Name: Cabin, dtype: float64"
      ]
     },
     "execution_count": 17,
     "metadata": {},
     "output_type": "execute_result"
    }
   ],
   "source": [
    "#у 87% невыживших кабина не указана, это существенно\n",
    "data['Cabin'].isnull().groupby(data['Survived']).mean()"
   ]
  },
  {
   "cell_type": "code",
   "execution_count": 18,
   "metadata": {},
   "outputs": [
    {
     "data": {
      "text/plain": [
       "Survived\n",
       "0    0.227687\n",
       "1    0.152047\n",
       "Name: Age, dtype: float64"
      ]
     },
     "execution_count": 18,
     "metadata": {},
     "output_type": "execute_result"
    }
   ],
   "source": [
    "#по возрасту тоже слегка больше погибших возраст которых не известен\n",
    "data['Age'].isnull().groupby(data['Survived']).mean()"
   ]
  },
  {
   "cell_type": "markdown",
   "metadata": {},
   "source": [
    "# вариант визуализации"
   ]
  },
  {
   "cell_type": "code",
   "execution_count": 19,
   "metadata": {},
   "outputs": [
    {
     "data": {
      "text/html": [
       "<div>\n",
       "<style scoped>\n",
       "    .dataframe tbody tr th:only-of-type {\n",
       "        vertical-align: middle;\n",
       "    }\n",
       "\n",
       "    .dataframe tbody tr th {\n",
       "        vertical-align: top;\n",
       "    }\n",
       "\n",
       "    .dataframe thead th {\n",
       "        text-align: right;\n",
       "    }\n",
       "</style>\n",
       "<table border=\"1\" class=\"dataframe\">\n",
       "  <thead>\n",
       "    <tr style=\"text-align: right;\">\n",
       "      <th></th>\n",
       "      <th>PassengerId</th>\n",
       "      <th>Survived</th>\n",
       "      <th>Pclass</th>\n",
       "      <th>Sex</th>\n",
       "      <th>Age</th>\n",
       "      <th>SibSp</th>\n",
       "      <th>Parch</th>\n",
       "      <th>Fare</th>\n",
       "      <th>Embarked</th>\n",
       "    </tr>\n",
       "  </thead>\n",
       "  <tbody>\n",
       "    <tr>\n",
       "      <th>0</th>\n",
       "      <td>1</td>\n",
       "      <td>0</td>\n",
       "      <td>3</td>\n",
       "      <td>male</td>\n",
       "      <td>22.0</td>\n",
       "      <td>1</td>\n",
       "      <td>0</td>\n",
       "      <td>7.2500</td>\n",
       "      <td>S</td>\n",
       "    </tr>\n",
       "    <tr>\n",
       "      <th>1</th>\n",
       "      <td>2</td>\n",
       "      <td>1</td>\n",
       "      <td>1</td>\n",
       "      <td>female</td>\n",
       "      <td>38.0</td>\n",
       "      <td>1</td>\n",
       "      <td>0</td>\n",
       "      <td>71.2833</td>\n",
       "      <td>C</td>\n",
       "    </tr>\n",
       "    <tr>\n",
       "      <th>2</th>\n",
       "      <td>3</td>\n",
       "      <td>1</td>\n",
       "      <td>3</td>\n",
       "      <td>female</td>\n",
       "      <td>26.0</td>\n",
       "      <td>0</td>\n",
       "      <td>0</td>\n",
       "      <td>7.9250</td>\n",
       "      <td>S</td>\n",
       "    </tr>\n",
       "    <tr>\n",
       "      <th>3</th>\n",
       "      <td>4</td>\n",
       "      <td>1</td>\n",
       "      <td>1</td>\n",
       "      <td>female</td>\n",
       "      <td>35.0</td>\n",
       "      <td>1</td>\n",
       "      <td>0</td>\n",
       "      <td>53.1000</td>\n",
       "      <td>S</td>\n",
       "    </tr>\n",
       "    <tr>\n",
       "      <th>4</th>\n",
       "      <td>5</td>\n",
       "      <td>0</td>\n",
       "      <td>3</td>\n",
       "      <td>male</td>\n",
       "      <td>35.0</td>\n",
       "      <td>0</td>\n",
       "      <td>0</td>\n",
       "      <td>8.0500</td>\n",
       "      <td>S</td>\n",
       "    </tr>\n",
       "  </tbody>\n",
       "</table>\n",
       "</div>"
      ],
      "text/plain": [
       "   PassengerId  Survived  Pclass     Sex   Age  SibSp  Parch     Fare Embarked\n",
       "0            1         0       3    male  22.0      1      0   7.2500        S\n",
       "1            2         1       1  female  38.0      1      0  71.2833        C\n",
       "2            3         1       3  female  26.0      0      0   7.9250        S\n",
       "3            4         1       1  female  35.0      1      0  53.1000        S\n",
       "4            5         0       3    male  35.0      0      0   8.0500        S"
      ]
     },
     "execution_count": 19,
     "metadata": {},
     "output_type": "execute_result"
    }
   ],
   "source": [
    "## Histograms\n",
    "dataset2 = data.drop(columns = ['Name', 'Ticket', 'Cabin'])\n",
    "dataset2.head()"
   ]
  },
  {
   "cell_type": "code",
   "execution_count": 20,
   "metadata": {},
   "outputs": [
    {
     "data": {
      "text/html": [
       "<div>\n",
       "<style scoped>\n",
       "    .dataframe tbody tr th:only-of-type {\n",
       "        vertical-align: middle;\n",
       "    }\n",
       "\n",
       "    .dataframe tbody tr th {\n",
       "        vertical-align: top;\n",
       "    }\n",
       "\n",
       "    .dataframe thead th {\n",
       "        text-align: right;\n",
       "    }\n",
       "</style>\n",
       "<table border=\"1\" class=\"dataframe\">\n",
       "  <thead>\n",
       "    <tr style=\"text-align: right;\">\n",
       "      <th></th>\n",
       "      <th>PassengerId</th>\n",
       "      <th>Survived</th>\n",
       "      <th>Pclass</th>\n",
       "      <th>male</th>\n",
       "      <th>Age</th>\n",
       "      <th>SibSp</th>\n",
       "      <th>Parch</th>\n",
       "      <th>Fare</th>\n",
       "      <th>Q</th>\n",
       "      <th>S</th>\n",
       "    </tr>\n",
       "  </thead>\n",
       "  <tbody>\n",
       "    <tr>\n",
       "      <th>0</th>\n",
       "      <td>1</td>\n",
       "      <td>0</td>\n",
       "      <td>3</td>\n",
       "      <td>1</td>\n",
       "      <td>22.0</td>\n",
       "      <td>1</td>\n",
       "      <td>0</td>\n",
       "      <td>7.2500</td>\n",
       "      <td>0</td>\n",
       "      <td>1</td>\n",
       "    </tr>\n",
       "    <tr>\n",
       "      <th>1</th>\n",
       "      <td>2</td>\n",
       "      <td>1</td>\n",
       "      <td>1</td>\n",
       "      <td>0</td>\n",
       "      <td>38.0</td>\n",
       "      <td>1</td>\n",
       "      <td>0</td>\n",
       "      <td>71.2833</td>\n",
       "      <td>0</td>\n",
       "      <td>0</td>\n",
       "    </tr>\n",
       "    <tr>\n",
       "      <th>2</th>\n",
       "      <td>3</td>\n",
       "      <td>1</td>\n",
       "      <td>3</td>\n",
       "      <td>0</td>\n",
       "      <td>26.0</td>\n",
       "      <td>0</td>\n",
       "      <td>0</td>\n",
       "      <td>7.9250</td>\n",
       "      <td>0</td>\n",
       "      <td>1</td>\n",
       "    </tr>\n",
       "    <tr>\n",
       "      <th>3</th>\n",
       "      <td>4</td>\n",
       "      <td>1</td>\n",
       "      <td>1</td>\n",
       "      <td>0</td>\n",
       "      <td>35.0</td>\n",
       "      <td>1</td>\n",
       "      <td>0</td>\n",
       "      <td>53.1000</td>\n",
       "      <td>0</td>\n",
       "      <td>1</td>\n",
       "    </tr>\n",
       "    <tr>\n",
       "      <th>4</th>\n",
       "      <td>5</td>\n",
       "      <td>0</td>\n",
       "      <td>3</td>\n",
       "      <td>1</td>\n",
       "      <td>35.0</td>\n",
       "      <td>0</td>\n",
       "      <td>0</td>\n",
       "      <td>8.0500</td>\n",
       "      <td>0</td>\n",
       "      <td>1</td>\n",
       "    </tr>\n",
       "  </tbody>\n",
       "</table>\n",
       "</div>"
      ],
      "text/plain": [
       "   PassengerId  Survived  Pclass  male   Age  SibSp  Parch     Fare  Q  S\n",
       "0            1         0       3     1  22.0      1      0   7.2500  0  1\n",
       "1            2         1       1     0  38.0      1      0  71.2833  0  0\n",
       "2            3         1       3     0  26.0      0      0   7.9250  0  1\n",
       "3            4         1       1     0  35.0      1      0  53.1000  0  1\n",
       "4            5         0       3     1  35.0      0      0   8.0500  0  1"
      ]
     },
     "execution_count": 20,
     "metadata": {},
     "output_type": "execute_result"
    }
   ],
   "source": [
    "data_OHE = pd.concat([dataset2[['PassengerId', 'Survived', 'Pclass']], # numerical variables \n",
    "                      pd.get_dummies(dataset2.Sex, drop_first=True),   # binary categorical variable\n",
    "                      dataset2[['Age', 'SibSp', 'Parch', 'Fare']],\n",
    "                      pd.get_dummies(dataset2.Embarked, drop_first=True)],  # k categories in categorical\n",
    "                    axis=1)\n",
    "\n",
    "data_OHE.head()"
   ]
  },
  {
   "cell_type": "code",
   "execution_count": 21,
   "metadata": {
    "scrolled": true
   },
   "outputs": [
    {
     "name": "stderr",
     "output_type": "stream",
     "text": [
      "C:\\Anaconda3\\envs\\py36\\lib\\site-packages\\numpy\\lib\\histograms.py:824: RuntimeWarning: invalid value encountered in greater_equal\n",
      "  keep = (tmp_a >= first_edge)\n",
      "C:\\Anaconda3\\envs\\py36\\lib\\site-packages\\numpy\\lib\\histograms.py:825: RuntimeWarning: invalid value encountered in less_equal\n",
      "  keep &= (tmp_a <= last_edge)\n"
     ]
    },
    {
     "data": {
      "image/png": "[encoded data removed]",
      "text/plain": [
       "<Figure size 1080x864 with 10 Axes>"
      ]
     },
     "metadata": {
      "needs_background": "light"
     },
     "output_type": "display_data"
    }
   ],
   "source": [
    "fig = plt.figure(figsize=(15, 12))\n",
    "plt.suptitle('Histograms of Numerical Columns', fontsize=20)\n",
    "for i in range(1, data_OHE.shape[1] + 1):\n",
    "    plt.subplot(6, 5, i)\n",
    "    f = plt.gca()\n",
    "    f.axes.get_yaxis().set_visible(False)\n",
    "    f.set_title(data_OHE.columns.values[i - 1])\n",
    "\n",
    "    vals = np.size(data_OHE.iloc[:, i - 1].unique())\n",
    "    \n",
    "    plt.hist(data_OHE.iloc[:, i - 1], bins=vals, color='#3F5D7D')\n",
    "plt.tight_layout(rect=[0, 0.03, 1, 0.95])"
   ]
  },
  {
   "cell_type": "code",
   "execution_count": 22,
   "metadata": {},
   "outputs": [
    {
     "data": {
      "image/png": "[encoded data removed]",
      "text/plain": [
       "<Figure size 1080x864 with 9 Axes>"
      ]
     },
     "metadata": {},
     "output_type": "display_data"
    }
   ],
   "source": [
    "## Pie Plots\n",
    "#dataset2 = dataset[['PassengerId', 'Survived', 'Pclass',\n",
    "#                    'Sex', 'Age', 'SibSp',\n",
    "#                    'Parch', 'Fare', 'Embarked']]\n",
    "fig = plt.figure(figsize=(15, 12))\n",
    "plt.suptitle('Pie Chart Distributions', fontsize=20)\n",
    "for i in range(1, dataset2.shape[1] + 1):\n",
    "    plt.subplot(6, 3, i)\n",
    "    f = plt.gca()\n",
    "    f.axes.get_yaxis().set_visible(False)\n",
    "    f.set_title(dataset2.columns.values[i - 1])\n",
    "   \n",
    "    values = dataset2.iloc[:, i - 1].value_counts(normalize = True).values\n",
    "    index = dataset2.iloc[:, i - 1].value_counts(normalize = True).index\n",
    "    plt.pie(values, labels = index, autopct='%1.1f%%')\n",
    "    plt.axis('equal')\n",
    "fig.tight_layout(rect=[0, 0.03, 1, 0.95])"
   ]
  },
  {
   "cell_type": "code",
   "execution_count": 23,
   "metadata": {},
   "outputs": [
    {
     "data": {
      "image/png": "[encoded data removed]",
      "text/plain": [
       "<Figure size 1080x864 with 6 Axes>"
      ]
     },
     "metadata": {},
     "output_type": "display_data"
    }
   ],
   "source": [
    "dataset3 = dataset2[['Survived', 'Pclass',\n",
    "                    'Sex', 'SibSp',\n",
    "                    'Parch', 'Embarked']]\n",
    "fig = plt.figure(figsize=(15, 12))\n",
    "plt.suptitle('Pie Chart Distributions', fontsize=20)\n",
    "for i in range(1, dataset3.shape[1] + 1):\n",
    "    plt.subplot(6, 3, i)\n",
    "    f = plt.gca()\n",
    "    f.axes.get_yaxis().set_visible(False)\n",
    "    f.set_title(dataset3.columns.values[i - 1])\n",
    "   \n",
    "    values = dataset3.iloc[:, i - 1].value_counts(normalize = True).values\n",
    "    index = dataset3.iloc[:, i - 1].value_counts(normalize = True).index\n",
    "    plt.pie(values, labels = index, autopct='%1.1f%%')\n",
    "    plt.axis('equal')\n",
    "fig.tight_layout(rect=[0, 0.03, 1, 0.95])"
   ]
  },
  {
   "cell_type": "code",
   "execution_count": null,
   "metadata": {},
   "outputs": [],
   "source": []
  },
  {
   "cell_type": "markdown",
   "metadata": {},
   "source": [
    "# теперь позаполняем пропуски"
   ]
  },
  {
   "cell_type": "code",
   "execution_count": 31,
   "metadata": {},
   "outputs": [
    {
     "data": {
      "text/plain": [
       "array([nan, 'C85', 'C123', 'E46', 'G6', 'C103', 'D56', 'A6',\n",
       "       'C23 C25 C27', 'B78', 'D33', 'B30', 'C52', 'B28', 'C83', 'F33',\n",
       "       'F G73', 'E31', 'A5', 'D10 D12', 'D26', 'C110', 'B58 B60', 'E101',\n",
       "       'F E69', 'D47', 'B86', 'F2', 'C2', 'E33', 'B19', 'A7', 'C49', 'F4',\n",
       "       'A32', 'B4', 'B80', 'A31', 'D36', 'D15', 'C93', 'C78', 'D35',\n",
       "       'C87', 'B77', 'E67', 'B94', 'C125', 'C99', 'C118', 'D7', 'A19',\n",
       "       'B49', 'D', 'C22 C26', 'C106', 'C65', 'E36', 'C54',\n",
       "       'B57 B59 B63 B66', 'C7', 'E34', 'C32', 'B18', 'C124', 'C91', 'E40',\n",
       "       'T', 'C128', 'D37', 'B35', 'E50', 'C82', 'B96 B98', 'E10', 'E44',\n",
       "       'A34', 'C104', 'C111', 'C92', 'E38', 'D21', 'E12', 'E63', 'A14',\n",
       "       'B37', 'C30', 'D20', 'B79', 'E25', 'D46', 'B73', 'C95', 'B38',\n",
       "       'B39', 'B22', 'C86', 'C70', 'A16', 'C101', 'C68', 'A10', 'E68',\n",
       "       'B41', 'A20', 'D19', 'D50', 'D9', 'A23', 'B50', 'A26', 'D48',\n",
       "       'E58', 'C126', 'B71', 'B51 B53 B55', 'D49', 'B5', 'B20', 'F G63',\n",
       "       'C62 C64', 'E24', 'C90', 'C45', 'E8', 'B101', 'D45', 'C46', 'D30',\n",
       "       'E121', 'D11', 'E77', 'F38', 'B3', 'D6', 'B82 B84', 'D17', 'A36',\n",
       "       'B102', 'B69', 'E49', 'C47', 'D28', 'E17', 'A24', 'C50', 'B42',\n",
       "       'C148'], dtype=object)"
      ]
     },
     "execution_count": 31,
     "metadata": {},
     "output_type": "execute_result"
    }
   ],
   "source": [
    "cabin = data['Cabin'].unique()\n",
    "cabin"
   ]
  },
  {
   "cell_type": "code",
   "execution_count": 30,
   "metadata": {},
   "outputs": [
    {
     "data": {
      "text/html": [
       "<div>\n",
       "<style scoped>\n",
       "    .dataframe tbody tr th:only-of-type {\n",
       "        vertical-align: middle;\n",
       "    }\n",
       "\n",
       "    .dataframe tbody tr th {\n",
       "        vertical-align: top;\n",
       "    }\n",
       "\n",
       "    .dataframe thead th {\n",
       "        text-align: right;\n",
       "    }\n",
       "</style>\n",
       "<table border=\"1\" class=\"dataframe\">\n",
       "  <thead>\n",
       "    <tr style=\"text-align: right;\">\n",
       "      <th></th>\n",
       "      <th>PassengerId</th>\n",
       "      <th>Survived</th>\n",
       "      <th>Pclass</th>\n",
       "      <th>Name</th>\n",
       "      <th>Sex</th>\n",
       "      <th>Age</th>\n",
       "      <th>SibSp</th>\n",
       "      <th>Parch</th>\n",
       "      <th>Ticket</th>\n",
       "      <th>Fare</th>\n",
       "      <th>Cabin</th>\n",
       "      <th>Embarked</th>\n",
       "    </tr>\n",
       "  </thead>\n",
       "  <tbody>\n",
       "    <tr>\n",
       "      <th>857</th>\n",
       "      <td>858</td>\n",
       "      <td>1</td>\n",
       "      <td>1</td>\n",
       "      <td>Daly, Mr. Peter Denis</td>\n",
       "      <td>male</td>\n",
       "      <td>51.0</td>\n",
       "      <td>0</td>\n",
       "      <td>0</td>\n",
       "      <td>113055</td>\n",
       "      <td>26.55</td>\n",
       "      <td>E17</td>\n",
       "      <td>S</td>\n",
       "    </tr>\n",
       "  </tbody>\n",
       "</table>\n",
       "</div>"
      ],
      "text/plain": [
       "     PassengerId  Survived  Pclass                    Name   Sex   Age  SibSp  \\\n",
       "857          858         1       1  Daly, Mr. Peter Denis   male  51.0      0   \n",
       "\n",
       "     Parch  Ticket   Fare Cabin Embarked  \n",
       "857      0  113055  26.55   E17        S  "
      ]
     },
     "execution_count": 30,
     "metadata": {},
     "output_type": "execute_result"
    }
   ],
   "source": [
    "data[data['Cabin']=='E17']"
   ]
  },
  {
   "cell_type": "markdown",
   "metadata": {},
   "source": [
    "# numpy.delete(a, obj, axis=None)\n",
    "Функция delete() удаляет указанные элементы на указанной оси.\n",
    "\n",
    "Параметры:\n",
    "\n",
    "a - подобный массиву объект Любой объект который может быть преобразован в массив NumPy.\n",
    "\n",
    "obj - срез, целое число или последовательность целых чисел\n",
    "Определяет позицию удаляемых подмассивов. В случае если необходимо указать срез массива, то необходимо использовать объект среза, например, np.s_[2:5] или сам срез массива a[2:5]. Если просто указать [2:5] то это приведет к ошибке.\n",
    "\n",
    "axis - целое число (необязательный)\n",
    "Определяет ось, элементы вдоль которой необходимо удалить. По умолчанию axis = None, что соответствует сжиманию входного массива до одной оси и созданию так же одномерного результирующего массива без указанных подмассивов.\n",
    "\n",
    "Возвращает:\n",
    "ndarray - массив NumPy\n",
    "Копия исходного массива без указанных подмассивов."
   ]
  },
  {
   "cell_type": "code",
   "execution_count": 43,
   "metadata": {},
   "outputs": [],
   "source": [
    "#удаляю первый элемент\n",
    "cabin = np.delete(cabin,np.s_[0])"
   ]
  },
  {
   "cell_type": "code",
   "execution_count": 44,
   "metadata": {},
   "outputs": [
    {
     "data": {
      "text/plain": [
       "array(['C85', 'C123', 'E46', 'G6', 'C103', 'D56', 'A6', 'C23 C25 C27',\n",
       "       'B78', 'D33', 'B30', 'C52', 'B28', 'C83', 'F33', 'F G73', 'E31',\n",
       "       'A5', 'D10 D12', 'D26', 'C110', 'B58 B60', 'E101', 'F E69', 'D47',\n",
       "       'B86', 'F2', 'C2', 'E33', 'B19', 'A7', 'C49', 'F4', 'A32', 'B4',\n",
       "       'B80', 'A31', 'D36', 'D15', 'C93', 'C78', 'D35', 'C87', 'B77',\n",
       "       'E67', 'B94', 'C125', 'C99', 'C118', 'D7', 'A19', 'B49', 'D',\n",
       "       'C22 C26', 'C106', 'C65', 'E36', 'C54', 'B57 B59 B63 B66', 'C7',\n",
       "       'E34', 'C32', 'B18', 'C124', 'C91', 'E40', 'T', 'C128', 'D37',\n",
       "       'B35', 'E50', 'C82', 'B96 B98', 'E10', 'E44', 'A34', 'C104',\n",
       "       'C111', 'C92', 'E38', 'D21', 'E12', 'E63', 'A14', 'B37', 'C30',\n",
       "       'D20', 'B79', 'E25', 'D46', 'B73', 'C95', 'B38', 'B39', 'B22',\n",
       "       'C86', 'C70', 'A16', 'C101', 'C68', 'A10', 'E68', 'B41', 'A20',\n",
       "       'D19', 'D50', 'D9', 'A23', 'B50', 'A26', 'D48', 'E58', 'C126',\n",
       "       'B71', 'B51 B53 B55', 'D49', 'B5', 'B20', 'F G63', 'C62 C64',\n",
       "       'E24', 'C90', 'C45', 'E8', 'B101', 'D45', 'C46', 'D30', 'E121',\n",
       "       'D11', 'E77', 'F38', 'B3', 'D6', 'B82 B84', 'D17', 'A36', 'B102',\n",
       "       'B69', 'E49', 'C47', 'D28', 'E17', 'A24', 'C50', 'B42', 'C148'],\n",
       "      dtype=object)"
      ]
     },
     "execution_count": 44,
     "metadata": {},
     "output_type": "execute_result"
    }
   ],
   "source": [
    "cabin"
   ]
  },
  {
   "cell_type": "code",
   "execution_count": 90,
   "metadata": {},
   "outputs": [
    {
     "name": "stdout",
     "output_type": "stream",
     "text": [
      "   Survived     Sex   Age     Fare\n",
      "1         1  female  38.0  71.2833\n",
      "     Survived     Sex   Age  Fare\n",
      "3           1  female  35.0  53.1\n",
      "137         0    male  37.0  53.1\n",
      "   Survived   Sex   Age     Fare\n",
      "6         0  male  54.0  51.8625\n",
      "     Survived     Sex   Age     Fare\n",
      "10          1  female   4.0  16.7000\n",
      "205         0  female   2.0  10.4625\n",
      "251         0  female  29.0  10.4625\n",
      "394         1  female  24.0  16.7000\n",
      "    Survived     Sex   Age   Fare\n",
      "11         1  female  58.0  26.55\n",
      "    Survived   Sex   Age  Fare\n",
      "21         1  male  34.0  13.0\n",
      "    Survived   Sex   Age  Fare\n",
      "23         1  male  28.0  35.5\n",
      "     Survived     Sex   Age   Fare\n",
      "27          0    male  19.0  263.0\n",
      "88          1  female  23.0  263.0\n",
      "341         1  female  24.0  263.0\n",
      "438         0    male  64.0  263.0\n",
      "    Survived     Sex  Age      Fare\n",
      "31         1  female  NaN  146.5208\n",
      "     Survived     Sex   Age     Fare\n",
      "52          1  female  49.0  76.7292\n",
      "645         1    male  48.0  76.7292\n",
      "    Survived   Sex   Age     Fare\n",
      "54         0  male  65.0  61.9792\n",
      "     Survived   Sex   Age   Fare\n",
      "55          1  male   NaN  35.50\n",
      "430         1  male  28.0  26.55\n",
      "     Survived     Sex   Age  Fare\n",
      "61          1  female  38.0  80.0\n",
      "829         1  female  62.0  80.0\n",
      "     Survived     Sex   Age    Fare\n",
      "62          0    male  45.0  83.475\n",
      "230         1  female  35.0  83.475\n",
      "     Survived     Sex   Age  Fare\n",
      "66          1  female  29.0  10.5\n",
      "345         1  female  24.0  13.0\n",
      "516         1  female  34.0  10.5\n",
      "     Survived   Sex   Age  Fare\n",
      "75          0  male  25.0  7.65\n",
      "715         0  male  19.0  7.65\n",
      "    Survived   Sex   Age    Fare\n",
      "92         0  male  46.0  61.175\n",
      "    Survived   Sex   Age     Fare\n",
      "96         0  male  71.0  34.6542\n",
      "    Survived   Sex   Age     Fare\n",
      "97         1  male  23.0  63.3583\n",
      "     Survived   Sex   Age     Fare\n",
      "102         0  male  21.0  77.2875\n",
      "124         0  male  54.0  77.2875\n",
      "     Survived   Sex   Age  Fare\n",
      "110         0  male  47.0  52.0\n",
      "     Survived     Sex   Age      Fare\n",
      "118         0    male  24.0  247.5208\n",
      "299         1  female  50.0  247.5208\n",
      "     Survived     Sex   Age   Fare\n",
      "123         1  female  32.5  13.00\n",
      "303         1  female   NaN  12.35\n",
      "717         1  female  27.0  10.50\n",
      "     Survived     Sex  Age     Fare\n",
      "128         1  female  NaN  22.3583\n",
      "     Survived     Sex   Age     Fare\n",
      "136         1  female  19.0  26.2833\n",
      "     Survived   Sex   Age  Fare\n",
      "139         0  male  24.0  79.2\n",
      "     Survived   Sex   Age  Fare\n",
      "148         0  male  36.5  26.0\n",
      "193         1  male   3.0  26.0\n",
      "340         1  male   2.0  26.0\n",
      "     Survived     Sex   Age  Fare\n",
      "151         1  female  22.0  66.6\n",
      "336         0    male  29.0  66.6\n",
      "     Survived     Sex   Age  Fare\n",
      "166         1  female   NaN  55.0\n",
      "356         1  female  22.0  55.0\n",
      "     Survived   Sex   Age  Fare\n",
      "170         0  male  61.0  33.5\n",
      "     Survived   Sex   Age     Fare\n",
      "174         0  male  56.0  30.6958\n",
      "     Survived     Sex   Age     Fare\n",
      "177         0  female  50.0  28.7125\n",
      "     Survived     Sex  Age  Fare\n",
      "183         1    male  1.0  39.0\n",
      "618         1  female  4.0  39.0\n",
      "     Survived   Sex  Age  Fare\n",
      "185         0  male  NaN  50.0\n",
      "     Survived     Sex   Age     Fare\n",
      "194         1  female  44.0  27.7208\n",
      "     Survived     Sex   Age      Fare\n",
      "195         1  female  58.0  146.5208\n",
      "     Survived   Sex   Age  Fare\n",
      "209         1  male  40.0  31.0\n",
      "     Survived     Sex   Age     Fare\n",
      "215         1  female  31.0  113.275\n",
      "393         1  female  23.0  113.275\n",
      "     Survived     Sex   Age     Fare\n",
      "218         1  female  32.0  76.2917\n",
      "     Survived     Sex   Age  Fare\n",
      "224         1    male  38.0  90.0\n",
      "486         1  female  35.0  90.0\n",
      "     Survived     Sex   Age  Fare\n",
      "245         0    male  44.0  90.0\n",
      "412         1  female  33.0  90.0\n",
      "     Survived     Sex   Age     Fare\n",
      "248         1    male  37.0  52.5542\n",
      "871         1  female  47.0  52.5542\n",
      "     Survived   Sex   Age   Fare\n",
      "252         0  male  62.0  26.55\n",
      "     Survived     Sex   Age  Fare\n",
      "257         1  female  30.0  86.5\n",
      "759         1  female  33.0  86.5\n",
      "     Survived     Sex   Age   Fare\n",
      "262         0    male  52.0  79.65\n",
      "558         1  female  39.0  79.65\n",
      "     Survived   Sex   Age  Fare\n",
      "263         0  male  40.0   0.0\n",
      "     Survived     Sex   Age      Fare\n",
      "268         1  female  58.0  153.4625\n",
      "609         1  female  40.0  153.4625\n",
      "     Survived     Sex   Age      Fare\n",
      "269         1  female  35.0  135.6333\n",
      "     Survived   Sex   Age  Fare\n",
      "273         0  male  37.0  29.7\n",
      "     Survived     Sex   Age     Fare\n",
      "275         1  female  63.0  77.9583\n",
      "     Survived   Sex  Age  Fare\n",
      "284         0  male  NaN  26.0\n",
      "     Survived     Sex   Age     Fare\n",
      "291         1  female  19.0  91.0792\n",
      "484         1    male  25.0  91.0792\n",
      "     Survived     Sex   Age     Fare\n",
      "292         0    male  36.0  12.8750\n",
      "327         1  female  36.0  13.0000\n",
      "473         1  female  23.0  13.7917\n",
      "     Survived     Sex    Age    Fare\n",
      "297         0  female   2.00  151.55\n",
      "305         1    male   0.92  151.55\n",
      "498         0  female  25.00  151.55\n",
      "     Survived   Sex  Age  Fare\n",
      "298         1  male  NaN  30.5\n",
      "     Survived     Sex   Age   Fare\n",
      "307         1  female  17.0  108.9\n",
      "505         0    male  18.0  108.9\n",
      "     Survived     Sex   Age     Fare\n",
      "309         1  female  30.0  56.9292\n",
      "     Survived     Sex   Age     Fare\n",
      "310         1  female  24.0  83.1583\n",
      "     Survived     Sex   Age     Fare\n",
      "311         1  female  18.0  262.375\n",
      "742         1  female  21.0  262.375\n",
      "     Survived     Sex   Age      Fare\n",
      "318         1  female  31.0  164.8667\n",
      "     Survived     Sex   Age   Fare\n",
      "319         1  female  40.0  134.5\n",
      "     Survived     Sex   Age      Fare\n",
      "325         1  female  36.0  135.6333\n",
      "     Survived     Sex   Age     Fare\n",
      "329         1  female  16.0  57.9792\n",
      "523         1  female  44.0  57.9792\n",
      "     Survived   Sex   Age   Fare\n",
      "331         0  male  45.5  28.50\n",
      "711         0  male   NaN  26.55\n",
      "     Survived   Sex   Age      Fare\n",
      "332         0  male  38.0  153.4625\n",
      "     Survived     Sex   Age   Fare\n",
      "337         1  female  41.0  134.5\n",
      "     Survived   Sex   Age  Fare\n",
      "339         0  male  45.0  35.5\n",
      "     Survived   Sex  Age  Fare\n",
      "351         0  male  NaN  35.0\n",
      "     Survived     Sex   Age   Fare\n",
      "366         1  female  60.0  75.25\n",
      "     Survived     Sex   Age  Fare\n",
      "369         1  female  24.0  69.3\n",
      "641         1  female  24.0  69.3\n",
      "     Survived   Sex   Age     Fare\n",
      "370         1  male  25.0  55.4417\n",
      "     Survived   Sex   Age   Fare\n",
      "377         0  male  27.0  211.5\n",
      "     Survived     Sex   Age   Fare\n",
      "390         1    male  36.0  120.0\n",
      "435         1  female  14.0  120.0\n",
      "763         1  female  36.0  120.0\n",
      "802         1    male  11.0  120.0\n",
      "     Survived   Sex   Age  Fare\n",
      "429         1  male  32.0  8.05\n",
      "     Survived     Sex   Age  Fare\n",
      "434         0    male  50.0  55.9\n",
      "577         1  female  39.0  55.9\n",
      "     Survived   Sex  Age     Fare\n",
      "445         1  male  4.0  81.8583\n",
      "     Survived   Sex   Age  Fare\n",
      "449         1  male  52.0  30.5\n",
      "     Survived   Sex   Age   Fare\n",
      "452         0  male  30.0  27.75\n",
      "     Survived     Sex   Age     Fare\n",
      "453         1    male  49.0  89.1042\n",
      "849         1  female   NaN  89.1042\n",
      "     Survived   Sex   Age   Fare\n",
      "456         0  male  65.0  26.55\n",
      "     Survived     Sex  Age     Fare\n",
      "457         1  female  NaN  51.8625\n",
      "     Survived   Sex   Age   Fare\n",
      "460         1  male  48.0  26.55\n",
      "     Survived   Sex   Age  Fare\n",
      "462         0  male  47.0  38.5\n",
      "     Survived   Sex  Age  Fare\n",
      "475         0  male  NaN  52.0\n",
      "     Survived   Sex   Age  Fare\n",
      "487         0  male  58.0  29.7\n",
      "     Survived   Sex   Age  Fare\n",
      "492         0  male  55.0  30.5\n",
      "     Survived     Sex   Age     Fare\n",
      "496         1  female  54.0  78.2667\n",
      "591         1  female  52.0  78.2667\n",
      "     Survived     Sex   Age  Fare\n",
      "504         1  female  16.0  86.5\n",
      "     Survived   Sex   Age     Fare\n",
      "512         1  male  36.0  26.2875\n",
      "572         1  male  36.0  26.3875\n",
      "     Survived   Sex   Age     Fare\n",
      "515         0  male  47.0  34.0208\n",
      "     Survived     Sex   Age  Fare\n",
      "520         1  female  30.0  93.5\n",
      "     Survived   Sex  Age      Fare\n",
      "527         0  male  NaN  221.7792\n",
      "     Survived   Sex   Age   Fare\n",
      "536         0  male  45.0  26.55\n",
      "     Survived     Sex   Age  Fare\n",
      "539         1  female  22.0  49.5\n",
      "     Survived     Sex   Age  Fare\n",
      "540         1  female  36.0  71.0\n",
      "745         0    male  70.0  71.0\n",
      "     Survived   Sex   Age     Fare\n",
      "544         0  male  50.0  106.425\n",
      "     Survived   Sex   Age      Fare\n",
      "550         1  male  17.0  110.8833\n",
      "     Survived     Sex   Age  Fare\n",
      "556         1  female  48.0  39.6\n",
      "     Survived     Sex   Age     Fare\n",
      "571         1  female  53.0  51.4792\n",
      "     Survived     Sex   Age      Fare\n",
      "581         1  female  39.0  110.8833\n",
      "698         0    male  49.0  110.8833\n",
      "     Survived   Sex   Age    Fare\n",
      "583         0  male  36.0  40.125\n",
      "     Survived     Sex   Age   Fare\n",
      "585         1  female  18.0  79.65\n",
      "     Survived   Sex   Age  Fare\n",
      "587         1  male  60.0  79.2\n",
      "     Survived   Sex   Age     Fare\n",
      "599         1  male  49.0  56.9292\n",
      "     Survived   Sex   Age     Fare\n",
      "621         1  male  42.0  52.5542\n",
      "     Survived   Sex   Age     Fare\n",
      "625         0  male  61.0  32.3208\n",
      "     Survived     Sex   Age     Fare\n",
      "627         1  female  21.0  77.9583\n",
      "     Survived   Sex   Age  Fare\n",
      "630         1  male  80.0  30.0\n",
      "     Survived   Sex   Age  Fare\n",
      "632         1  male  32.0  30.5\n",
      "     Survived   Sex   Age  Fare\n",
      "647         1  male  56.0  35.5\n",
      "     Survived   Sex   Age     Fare\n",
      "659         0  male  58.0  113.275\n",
      "     Survived   Sex   Age     Fare\n",
      "662         0  male  47.0  25.5875\n",
      "     Survived     Sex   Age  Fare\n",
      "669         1  female   NaN  52.0\n",
      "712         1    male  48.0  52.0\n",
      "     Survived   Sex   Age  Fare\n",
      "671         0  male  31.0  52.0\n",
      "     Survived   Sex   Age      Fare\n",
      "679         1  male  36.0  512.3292\n",
      "872         0  male  33.0    5.0000\n",
      "     Survived   Sex   Age     Fare\n",
      "681         1  male  27.0  76.7292\n",
      "     Survived     Sex   Age      Fare\n",
      "689         1  female  15.0  211.3375\n",
      "730         1  female  29.0  211.3375\n",
      "     Survived     Sex   Age  Fare\n",
      "690         1    male  31.0  57.0\n",
      "781         1  female  17.0  57.0\n",
      "     Survived   Sex   Age  Fare\n",
      "699         0  male  42.0  7.65\n"
     ]
    },
    {
     "name": "stdout",
     "output_type": "stream",
     "text": [
      "     Survived     Sex   Age     Fare\n",
      "700         1  female  18.0  227.525\n",
      "     Survived   Sex   Age     Fare\n",
      "701         1  male  35.0  26.2875\n",
      "707         1  male  42.0  26.2875\n",
      "     Survived     Sex   Age     Fare\n",
      "710         1  female  24.0  49.5042\n",
      "     Survived     Sex   Age     Fare\n",
      "716         1  female  38.0  227.525\n",
      "     Survived     Sex   Age  Fare\n",
      "724         1    male  27.0  53.1\n",
      "809         1  female  33.0  53.1\n",
      "     Survived   Sex   Age      Fare\n",
      "737         1  male  35.0  512.3292\n",
      "     Survived   Sex  Age  Fare\n",
      "740         1  male  NaN  30.0\n",
      "     Survived   Sex   Age   Fare\n",
      "741         0  male  36.0  78.85\n",
      "     Survived   Sex   Age  Fare\n",
      "748         0  male  19.0  53.1\n",
      "     Survived     Sex   Age    Fare\n",
      "751         1    male   6.0  12.475\n",
      "823         1  female  27.0  12.475\n",
      "     Survived     Sex   Age     Fare\n",
      "765         1  female  51.0  77.9583\n",
      "     Survived     Sex   Age  Fare\n",
      "772         0  female  57.0  10.5\n",
      "     Survived   Sex  Age  Fare\n",
      "776         0  male  NaN  7.75\n",
      "     Survived     Sex   Age      Fare\n",
      "779         1  female  43.0  211.3375\n",
      "     Survived   Sex   Age  Fare\n",
      "782         0  male  29.0  30.0\n",
      "     Survived   Sex   Age  Fare\n",
      "789         0  male  46.0  79.2\n",
      "     Survived     Sex   Age     Fare\n",
      "796         1  female  49.0  25.9292\n",
      "862         1  female  48.0  25.9292\n",
      "     Survived   Sex   Age  Fare\n",
      "806         0  male  39.0   0.0\n",
      "     Survived   Sex  Age  Fare\n",
      "815         0  male  NaN   0.0\n",
      "     Survived     Sex   Age  Fare\n",
      "820         1  female  52.0  93.5\n",
      "     Survived     Sex   Age     Fare\n",
      "835         1  female  39.0  83.1583\n",
      "     Survived   Sex  Age  Fare\n",
      "839         1  male  NaN  29.7\n",
      "     Survived     Sex   Age  Fare\n",
      "853         1  female  16.0  39.4\n",
      "     Survived   Sex   Age   Fare\n",
      "857         1  male  51.0  26.55\n",
      "     Survived   Sex   Age     Fare\n",
      "867         0  male  31.0  50.4958\n",
      "     Survived     Sex   Age     Fare\n",
      "879         1  female  56.0  83.1583\n",
      "     Survived     Sex   Age  Fare\n",
      "887         1  female  19.0  30.0\n",
      "     Survived   Sex   Age  Fare\n",
      "889         1  male  26.0  30.0\n"
     ]
    }
   ],
   "source": [
    "for cab in cabin:\n",
    "    print(data[data['Cabin']==cab][['Survived','Sex','Age','Fare']])"
   ]
  },
  {
   "cell_type": "code",
   "execution_count": 98,
   "metadata": {},
   "outputs": [
    {
     "data": {
      "text/html": [
       "<div>\n",
       "<style scoped>\n",
       "    .dataframe tbody tr th:only-of-type {\n",
       "        vertical-align: middle;\n",
       "    }\n",
       "\n",
       "    .dataframe tbody tr th {\n",
       "        vertical-align: top;\n",
       "    }\n",
       "\n",
       "    .dataframe thead th {\n",
       "        text-align: right;\n",
       "    }\n",
       "</style>\n",
       "<table border=\"1\" class=\"dataframe\">\n",
       "  <thead>\n",
       "    <tr style=\"text-align: right;\">\n",
       "      <th></th>\n",
       "      <th>Survived</th>\n",
       "      <th>Sex</th>\n",
       "      <th>Age</th>\n",
       "      <th>Fare</th>\n",
       "    </tr>\n",
       "  </thead>\n",
       "  <tbody>\n",
       "    <tr>\n",
       "      <th>1</th>\n",
       "      <td>1</td>\n",
       "      <td>female</td>\n",
       "      <td>38.0</td>\n",
       "      <td>71.2833</td>\n",
       "    </tr>\n",
       "  </tbody>\n",
       "</table>\n",
       "</div>"
      ],
      "text/plain": [
       "   Survived     Sex   Age     Fare\n",
       "1         1  female  38.0  71.2833"
      ]
     },
     "execution_count": 98,
     "metadata": {},
     "output_type": "execute_result"
    }
   ],
   "source": [
    "df = pd.DataFrame(data[data['Cabin']=='C85'][['Survived','Sex','Age','Fare']],columns=['Survived','Sex','Age','Fare'])\n",
    "df"
   ]
  },
  {
   "cell_type": "code",
   "execution_count": null,
   "metadata": {},
   "outputs": [],
   "source": []
  },
  {
   "cell_type": "code",
   "execution_count": 105,
   "metadata": {},
   "outputs": [
    {
     "data": {
      "text/html": [
       "<div>\n",
       "<style scoped>\n",
       "    .dataframe tbody tr th:only-of-type {\n",
       "        vertical-align: middle;\n",
       "    }\n",
       "\n",
       "    .dataframe tbody tr th {\n",
       "        vertical-align: top;\n",
       "    }\n",
       "\n",
       "    .dataframe thead th {\n",
       "        text-align: right;\n",
       "    }\n",
       "</style>\n",
       "<table border=\"1\" class=\"dataframe\">\n",
       "  <thead>\n",
       "    <tr style=\"text-align: right;\">\n",
       "      <th></th>\n",
       "      <th>Survived</th>\n",
       "      <th>Sex</th>\n",
       "      <th>Age</th>\n",
       "      <th>Fare</th>\n",
       "    </tr>\n",
       "  </thead>\n",
       "  <tbody>\n",
       "    <tr>\n",
       "      <th>1</th>\n",
       "      <td>1</td>\n",
       "      <td>female</td>\n",
       "      <td>38.0</td>\n",
       "      <td>71.2833</td>\n",
       "    </tr>\n",
       "  </tbody>\n",
       "</table>\n",
       "</div>"
      ],
      "text/plain": [
       "   Survived     Sex   Age     Fare\n",
       "1         1  female  38.0  71.2833"
      ]
     },
     "execution_count": 105,
     "metadata": {},
     "output_type": "execute_result"
    }
   ],
   "source": [
    "df.append(data[data['Cabin']=='E46'][['Survived','Sex','Age','Fare']])\n",
    "df"
   ]
  },
  {
   "cell_type": "code",
   "execution_count": 112,
   "metadata": {},
   "outputs": [
    {
     "data": {
      "text/html": [
       "<div>\n",
       "<style scoped>\n",
       "    .dataframe tbody tr th:only-of-type {\n",
       "        vertical-align: middle;\n",
       "    }\n",
       "\n",
       "    .dataframe tbody tr th {\n",
       "        vertical-align: top;\n",
       "    }\n",
       "\n",
       "    .dataframe thead th {\n",
       "        text-align: right;\n",
       "    }\n",
       "</style>\n",
       "<table border=\"1\" class=\"dataframe\">\n",
       "  <thead>\n",
       "    <tr style=\"text-align: right;\">\n",
       "      <th></th>\n",
       "      <th>Survived</th>\n",
       "      <th>Sex</th>\n",
       "      <th>Age</th>\n",
       "      <th>Fare</th>\n",
       "    </tr>\n",
       "  </thead>\n",
       "  <tbody>\n",
       "    <tr>\n",
       "      <th>1</th>\n",
       "      <td>1</td>\n",
       "      <td>female</td>\n",
       "      <td>38.0</td>\n",
       "      <td>71.2833</td>\n",
       "    </tr>\n",
       "  </tbody>\n",
       "</table>\n",
       "</div>"
      ],
      "text/plain": [
       "   Survived     Sex   Age     Fare\n",
       "1         1  female  38.0  71.2833"
      ]
     },
     "execution_count": 112,
     "metadata": {},
     "output_type": "execute_result"
    }
   ],
   "source": [
    "for cab in cabin:\n",
    "    df.append(data[data['Cabin']==cab][['Survived','Sex','Age','Fare']])\n",
    "df"
   ]
  },
  {
   "cell_type": "code",
   "execution_count": null,
   "metadata": {},
   "outputs": [],
   "source": []
  },
  {
   "cell_type": "code",
   "execution_count": null,
   "metadata": {},
   "outputs": [],
   "source": []
  }
 ],
 "metadata": {
  "kernelspec": {
   "display_name": "Python 3",
   "language": "python",
   "name": "python3"
  },
  "language_info": {
   "codemirror_mode": {
    "name": "ipython",
    "version": 3
   },
   "file_extension": ".py",
   "mimetype": "text/x-python",
   "name": "python",
   "nbconvert_exporter": "python",
   "pygments_lexer": "ipython3",
   "version": "3.6.8"
  }
 },
 "nbformat": 4,
 "nbformat_minor": 2
}
